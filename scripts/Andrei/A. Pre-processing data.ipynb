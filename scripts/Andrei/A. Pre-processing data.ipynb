{
 "cells": [
  {
   "cell_type": "markdown",
   "metadata": {},
   "source": [
    "## Machinery"
   ]
  },
  {
   "cell_type": "code",
   "execution_count": 13,
   "metadata": {
    "scrolled": true
   },
   "outputs": [
    {
     "name": "stdout",
     "output_type": "stream",
     "text": [
      "The watermark extension is already loaded. To reload it, use:\n",
      "  %reload_ext watermark\n",
      "2021-02-04T22:13:21+08:00\n",
      "\n",
      "CPython 3.8.6\n",
      "IPython 7.19.0\n",
      "\n",
      "pandas 1.2.1\n",
      "pystan 2.19.1.1\n",
      "arviz 0.11.0\n",
      "\n",
      "compiler   : GCC 9.3.0\n",
      "system     : Linux\n",
      "release    : 5.8.0-40-generic\n",
      "machine    : x86_64\n",
      "processor  : x86_64\n",
      "CPU cores  : 12\n",
      "interpreter: 64bit\n"
     ]
    }
   ],
   "source": [
    "%load_ext watermark\n",
    "%watermark -i -v -m -p pandas,pystan,arviz"
   ]
  },
  {
   "cell_type": "code",
   "execution_count": 14,
   "metadata": {},
   "outputs": [
    {
     "name": "stdout",
     "output_type": "stream",
     "text": [
      "The rpy2.ipython extension is already loaded. To reload it, use:\n",
      "  %reload_ext rpy2.ipython\n"
     ]
    }
   ],
   "source": [
    "import pandas as pd\n",
    "import numpy as np\n",
    "from termcolor import colored\n",
    "\n",
    "import epiweeks\n",
    "\n",
    "%load_ext rpy2.ipython\n",
    "\n",
    "import warnings\n",
    "warnings.simplefilter(action='ignore', category=FutureWarning)"
   ]
  },
  {
   "cell_type": "code",
   "execution_count": 15,
   "metadata": {},
   "outputs": [
    {
     "name": "stdout",
     "output_type": "stream",
     "text": [
      "mkdir: cannot create directory ‘../../data’: File exists\r\n"
     ]
    }
   ],
   "source": [
    "!rm -rf ../../data/mortality\n",
    "!mkdir ../../data\n",
    "!mkdir ../../data/mortality"
   ]
  },
  {
   "cell_type": "markdown",
   "metadata": {},
   "source": [
    "# <font color=\"purple\">Loading the data</font>"
   ]
  },
  {
   "cell_type": "markdown",
   "metadata": {},
   "source": [
    "## <font color=\"orange\">CDC data</font>"
   ]
  },
  {
   "cell_type": "code",
   "execution_count": 16,
   "metadata": {},
   "outputs": [
    {
     "data": {
      "text/plain": [
       "['../../data_raw/mortality/cdc/2020W34 (20200822; updated 20200902) - Weekly_Counts_of_Deaths_by_State_and_Select_Causes__2019-2020.csv',\n",
       " '../../data_raw/mortality/cdc/2020W35 (20200829; updated 20200909) - Weekly_Counts_of_Deaths_by_State_and_Select_Causes__2019-2020.csv',\n",
       " '../../data_raw/mortality/cdc/2020W40 (20201003; updated 20201015) - Weekly_Counts_of_Deaths_by_State_and_Select_Causes__2019-2020.csv',\n",
       " '../../data_raw/mortality/cdc/2020W41 (20201010; updated 20201022) - Weekly_Counts_of_Deaths_by_State_and_Select_Causes__2019-2020.csv',\n",
       " '../../data_raw/mortality/cdc/2020W42 (20201017; updated 20201029) - Weekly_Counts_of_Deaths_by_State_and_Select_Causes__2019-2020.csv',\n",
       " '../../data_raw/mortality/cdc/2020W43 (20201024; updated 20201103) - Weekly_Counts_of_Deaths_by_State_and_Select_Causes__2019-2020.csv',\n",
       " '../../data_raw/mortality/cdc/2020W44 (20201031; updated 20201110) - Weekly_Counts_of_Deaths_by_State_and_Select_Causes__2019-2020.csv',\n",
       " '../../data_raw/mortality/cdc/2020W45 (20201107; updated 20201119) - Weekly_Counts_of_Deaths_by_State_and_Select_Causes__2019-2020.csv',\n",
       " '../../data_raw/mortality/cdc/2020W46 (20201114; updated 20201126) - Weekly_Counts_of_Deaths_by_State_and_Select_Causes__2019-2020.csv',\n",
       " '../../data_raw/mortality/cdc/2020W47 (20201121; updated 20201203) - Weekly_Counts_of_Deaths_by_State_and_Select_Causes__2019-2020.csv',\n",
       " '../../data_raw/mortality/cdc/2020W48 (20201128; updated 20201210) - Weekly_Counts_of_Deaths_by_State_and_Select_Causes__2019-2020.csv',\n",
       " '../../data_raw/mortality/cdc/2020W49 (20201205; updated 20201217) - Weekly_Counts_of_Deaths_by_State_and_Select_Causes__2019-2020.csv',\n",
       " '../../data_raw/mortality/cdc/2020W50 (20201212; updated 20201224) - Weekly_Counts_of_Deaths_by_State_and_Select_Causes__2019-2020.csv',\n",
       " '../../data_raw/mortality/cdc/2020W51 (20201219; updated 20201231) - Weekly_Counts_of_Deaths_by_State_and_Select_Causes__2019-2020.csv',\n",
       " '../../data_raw/mortality/cdc/2020W52 (20201226; updated 20210107) - Weekly_Counts_of_Deaths_by_State_and_Select_Causes__2019-2020.csv',\n",
       " '../../data_raw/mortality/cdc/2020W53 (20210102; updated 20210114) - Weekly_Counts_of_Deaths_by_State_and_Select_Causes__2019-2020.csv',\n",
       " '../../data_raw/mortality/cdc/2021W01 (20210109; updated 20210122) - Weekly_Counts_of_Deaths_by_State_and_Select_Causes__2019-2020.csv',\n",
       " '../../data_raw/mortality/cdc/2021W02 (20210116; updated 20210128) - Weekly_Counts_of_Deaths_by_State_and_Select_Causes__2019-2020.csv',\n",
       " '../../data_raw/mortality/cdc/2021W03 (20210123; updated 20210204) - Weekly_Counts_of_Deaths_by_State_and_Select_Causes__2019-2020.csv']"
      ]
     },
     "execution_count": 16,
     "metadata": {},
     "output_type": "execute_result"
    }
   ],
   "source": [
    "cdcdir = \"../../data_raw/mortality/cdc\"\n",
    "cdcfiles = !ls {cdcdir}/*csv\n",
    "cdcfiles"
   ]
  },
  {
   "cell_type": "markdown",
   "metadata": {},
   "source": [
    "### <font color=\"brown\">Example with one particular file</font>"
   ]
  },
  {
   "cell_type": "code",
   "execution_count": 17,
   "metadata": {},
   "outputs": [
    {
     "data": {
      "text/plain": [
       "Index(['Jurisdiction of Occurrence', 'MMWR Year', 'MMWR Week',\n",
       "       'Week Ending Date', 'All Cause', 'Natural Cause',\n",
       "       'Septicemia (A40-A41)', 'Malignant neoplasms (C00-C97)',\n",
       "       'Diabetes mellitus (E10-E14)', 'Alzheimer disease (G30)',\n",
       "       'Influenza and pneumonia (J09-J18)',\n",
       "       'Chronic lower respiratory diseases (J40-J47)',\n",
       "       'Other diseases of respiratory system (J00-J06,J30-J39,J67,J70-J98)',\n",
       "       'Nephritis, nephrotic syndrome and nephrosis (N00-N07,N17-N19,N25-N27)',\n",
       "       'Symptoms, signs and abnormal clinical and laboratory findings, not elsewhere classified (R00-R99)',\n",
       "       'Diseases of heart (I00-I09,I11,I13,I20-I51)',\n",
       "       'Cerebrovascular diseases (I60-I69)',\n",
       "       'COVID-19 (U071, Multiple Cause of Death)',\n",
       "       'COVID-19 (U071, Underlying Cause of Death)', 'flag_allcause',\n",
       "       'flag_natcause', 'flag_sept', 'flag_neopl', 'flag_diab', 'flag_alz',\n",
       "       'flag_inflpn', 'flag_clrd', 'flag_otherresp', 'flag_nephr',\n",
       "       'flag_otherunk', 'flag_hd', 'flag_stroke', 'flag_cov19mcod',\n",
       "       'flag_cov19ucod'],\n",
       "      dtype='object')"
      ]
     },
     "execution_count": 17,
     "metadata": {},
     "output_type": "execute_result"
    }
   ],
   "source": [
    "pd.read_csv(cdcfiles[-1]).columns"
   ]
  },
  {
   "cell_type": "code",
   "execution_count": 18,
   "metadata": {
    "scrolled": false
   },
   "outputs": [
    {
     "name": "stdout",
     "output_type": "stream",
     "text": [
      "../../data_raw/mortality/cdc/2021W03 (20210123; updated 20210204) - Weekly_Counts_of_Deaths_by_State_and_Select_Causes__2019-2020.csv\n"
     ]
    },
    {
     "data": {
      "text/html": [
       "<div>\n",
       "<style scoped>\n",
       "    .dataframe tbody tr th:only-of-type {\n",
       "        vertical-align: middle;\n",
       "    }\n",
       "\n",
       "    .dataframe tbody tr th {\n",
       "        vertical-align: top;\n",
       "    }\n",
       "\n",
       "    .dataframe thead th {\n",
       "        text-align: right;\n",
       "    }\n",
       "</style>\n",
       "<table border=\"1\" class=\"dataframe\">\n",
       "  <thead>\n",
       "    <tr style=\"text-align: right;\">\n",
       "      <th></th>\n",
       "      <th>jurisdiction</th>\n",
       "      <th>year</th>\n",
       "      <th>week</th>\n",
       "      <th>number_of_deaths</th>\n",
       "      <th>last_week</th>\n",
       "      <th>reporting</th>\n",
       "    </tr>\n",
       "  </thead>\n",
       "  <tbody>\n",
       "    <tr>\n",
       "      <th>0</th>\n",
       "      <td>United States</td>\n",
       "      <td>2020</td>\n",
       "      <td>1</td>\n",
       "      <td>60167</td>\n",
       "      <td>2020W53</td>\n",
       "      <td>2021-01-12</td>\n",
       "    </tr>\n",
       "    <tr>\n",
       "      <th>1</th>\n",
       "      <td>United States</td>\n",
       "      <td>2020</td>\n",
       "      <td>2</td>\n",
       "      <td>60722</td>\n",
       "      <td>2020W53</td>\n",
       "      <td>2021-01-12</td>\n",
       "    </tr>\n",
       "    <tr>\n",
       "      <th>2</th>\n",
       "      <td>United States</td>\n",
       "      <td>2020</td>\n",
       "      <td>3</td>\n",
       "      <td>59352</td>\n",
       "      <td>2020W53</td>\n",
       "      <td>2021-01-12</td>\n",
       "    </tr>\n",
       "    <tr>\n",
       "      <th>3</th>\n",
       "      <td>United States</td>\n",
       "      <td>2020</td>\n",
       "      <td>4</td>\n",
       "      <td>59139</td>\n",
       "      <td>2020W53</td>\n",
       "      <td>2021-01-12</td>\n",
       "    </tr>\n",
       "    <tr>\n",
       "      <th>4</th>\n",
       "      <td>United States</td>\n",
       "      <td>2020</td>\n",
       "      <td>5</td>\n",
       "      <td>58801</td>\n",
       "      <td>2020W53</td>\n",
       "      <td>2021-01-12</td>\n",
       "    </tr>\n",
       "    <tr>\n",
       "      <th>...</th>\n",
       "      <td>...</td>\n",
       "      <td>...</td>\n",
       "      <td>...</td>\n",
       "      <td>...</td>\n",
       "      <td>...</td>\n",
       "      <td>...</td>\n",
       "    </tr>\n",
       "    <tr>\n",
       "      <th>2857</th>\n",
       "      <td>Puerto Rico</td>\n",
       "      <td>2020</td>\n",
       "      <td>49</td>\n",
       "      <td>164</td>\n",
       "      <td>2020W53</td>\n",
       "      <td>2021-01-12</td>\n",
       "    </tr>\n",
       "    <tr>\n",
       "      <th>2858</th>\n",
       "      <td>Puerto Rico</td>\n",
       "      <td>2020</td>\n",
       "      <td>50</td>\n",
       "      <td>123</td>\n",
       "      <td>2020W53</td>\n",
       "      <td>2021-01-12</td>\n",
       "    </tr>\n",
       "    <tr>\n",
       "      <th>2859</th>\n",
       "      <td>Puerto Rico</td>\n",
       "      <td>2020</td>\n",
       "      <td>51</td>\n",
       "      <td>139</td>\n",
       "      <td>2020W53</td>\n",
       "      <td>2021-01-12</td>\n",
       "    </tr>\n",
       "    <tr>\n",
       "      <th>2860</th>\n",
       "      <td>Puerto Rico</td>\n",
       "      <td>2020</td>\n",
       "      <td>52</td>\n",
       "      <td>85</td>\n",
       "      <td>2020W53</td>\n",
       "      <td>2021-01-12</td>\n",
       "    </tr>\n",
       "    <tr>\n",
       "      <th>2861</th>\n",
       "      <td>Puerto Rico</td>\n",
       "      <td>2020</td>\n",
       "      <td>53</td>\n",
       "      <td>36</td>\n",
       "      <td>2020W53</td>\n",
       "      <td>2021-01-12</td>\n",
       "    </tr>\n",
       "  </tbody>\n",
       "</table>\n",
       "<p>2862 rows × 6 columns</p>\n",
       "</div>"
      ],
      "text/plain": [
       "       jurisdiction  year  week  number_of_deaths last_week   reporting\n",
       "0     United States  2020     1             60167   2020W53  2021-01-12\n",
       "1     United States  2020     2             60722   2020W53  2021-01-12\n",
       "2     United States  2020     3             59352   2020W53  2021-01-12\n",
       "3     United States  2020     4             59139   2020W53  2021-01-12\n",
       "4     United States  2020     5             58801   2020W53  2021-01-12\n",
       "...             ...   ...   ...               ...       ...         ...\n",
       "2857    Puerto Rico  2020    49               164   2020W53  2021-01-12\n",
       "2858    Puerto Rico  2020    50               123   2020W53  2021-01-12\n",
       "2859    Puerto Rico  2020    51               139   2020W53  2021-01-12\n",
       "2860    Puerto Rico  2020    52                85   2020W53  2021-01-12\n",
       "2861    Puerto Rico  2020    53                36   2020W53  2021-01-12\n",
       "\n",
       "[2862 rows x 6 columns]"
      ]
     },
     "execution_count": 18,
     "metadata": {},
     "output_type": "execute_result"
    }
   ],
   "source": [
    "print(cdcfiles[-1])\n",
    "df = pd.read_csv(cdcfiles[-2]).rename(columns={'Jurisdiction of Occurrence':'jurisdiction', \n",
    "                                         'MMWR Year':'year', 'MMWR Week':'week',\n",
    "                                         'All Cause':'number_of_deaths'}).loc[lambda d: d.year==2020, ['jurisdiction','year','week','number_of_deaths']].reset_index(drop=True)\n",
    "for x in ['year', 'week', 'number_of_deaths']:\n",
    "    # small technical issue with \",\" in numbers for deaths\n",
    "    if (type(df['number_of_deaths'][0])==str)&(x=='number_of_deaths'):\n",
    "        df[x] = df[x].str.replace(\",\",\"\")\n",
    "    df[x] = df[x].astype('float').astype(pd.Int64Dtype())\n",
    "wk_ = df.loc[lambda d: d.year==max(d.year)].loc[lambda d: d.week==max(d.week)].week.values[0]\n",
    "yr_ = df.loc[lambda d: d.year==max(d.year)].year.values[0]\n",
    "df['last_week'] = '%dW%02d'%(yr_,wk_)\n",
    "df['reporting'] = (pd.to_datetime(epiweeks.Week(yr_, wk_).enddate()) + pd.DateOffset(days=10)).strftime(\"%Y-%m-%d\")\n",
    "df"
   ]
  },
  {
   "cell_type": "markdown",
   "metadata": {},
   "source": [
    "### <font color=\"brown\">Processing all datafiles</font>"
   ]
  },
  {
   "cell_type": "code",
   "execution_count": 19,
   "metadata": {
    "scrolled": true
   },
   "outputs": [
    {
     "name": "stdout",
     "output_type": "stream",
     "text": [
      "[0, '../../data_raw/mortality/cdc/2020W34 (20200822; updated 20200902) - Weekly_Counts_of_Deaths_by_State_and_Select_Causes__2019-2020.csv']\n",
      "\u001b[31m20200902\u001b[0m\n",
      "[1, '../../data_raw/mortality/cdc/2020W35 (20200829; updated 20200909) - Weekly_Counts_of_Deaths_by_State_and_Select_Causes__2019-2020.csv']\n",
      "\u001b[31m20200909\u001b[0m\n",
      "[2, '../../data_raw/mortality/cdc/2020W40 (20201003; updated 20201015) - Weekly_Counts_of_Deaths_by_State_and_Select_Causes__2019-2020.csv']\n",
      "\u001b[31m20201015\u001b[0m\n",
      "[3, '../../data_raw/mortality/cdc/2020W41 (20201010; updated 20201022) - Weekly_Counts_of_Deaths_by_State_and_Select_Causes__2019-2020.csv']\n",
      "\u001b[31m20201022\u001b[0m\n",
      "[4, '../../data_raw/mortality/cdc/2020W42 (20201017; updated 20201029) - Weekly_Counts_of_Deaths_by_State_and_Select_Causes__2019-2020.csv']\n",
      "\u001b[31m20201029\u001b[0m\n",
      "[5, '../../data_raw/mortality/cdc/2020W43 (20201024; updated 20201103) - Weekly_Counts_of_Deaths_by_State_and_Select_Causes__2019-2020.csv']\n",
      "\u001b[31m20201103\u001b[0m\n",
      "[6, '../../data_raw/mortality/cdc/2020W44 (20201031; updated 20201110) - Weekly_Counts_of_Deaths_by_State_and_Select_Causes__2019-2020.csv']\n",
      "\u001b[31m20201110\u001b[0m\n",
      "[7, '../../data_raw/mortality/cdc/2020W45 (20201107; updated 20201119) - Weekly_Counts_of_Deaths_by_State_and_Select_Causes__2019-2020.csv']\n",
      "\u001b[31m20201119\u001b[0m\n",
      "[8, '../../data_raw/mortality/cdc/2020W46 (20201114; updated 20201126) - Weekly_Counts_of_Deaths_by_State_and_Select_Causes__2019-2020.csv']\n",
      "\u001b[31m20201126\u001b[0m\n",
      "[9, '../../data_raw/mortality/cdc/2020W47 (20201121; updated 20201203) - Weekly_Counts_of_Deaths_by_State_and_Select_Causes__2019-2020.csv']\n",
      "\u001b[31m20201203\u001b[0m\n",
      "[10, '../../data_raw/mortality/cdc/2020W48 (20201128; updated 20201210) - Weekly_Counts_of_Deaths_by_State_and_Select_Causes__2019-2020.csv']\n",
      "\u001b[31m20201210\u001b[0m\n",
      "[11, '../../data_raw/mortality/cdc/2020W49 (20201205; updated 20201217) - Weekly_Counts_of_Deaths_by_State_and_Select_Causes__2019-2020.csv']\n",
      "\u001b[31m20201217\u001b[0m\n",
      "[12, '../../data_raw/mortality/cdc/2020W50 (20201212; updated 20201224) - Weekly_Counts_of_Deaths_by_State_and_Select_Causes__2019-2020.csv']\n",
      "\u001b[31m20201224\u001b[0m\n",
      "[13, '../../data_raw/mortality/cdc/2020W51 (20201219; updated 20201231) - Weekly_Counts_of_Deaths_by_State_and_Select_Causes__2019-2020.csv']\n",
      "\u001b[31m20201231\u001b[0m\n",
      "[14, '../../data_raw/mortality/cdc/2020W52 (20201226; updated 20210107) - Weekly_Counts_of_Deaths_by_State_and_Select_Causes__2019-2020.csv']\n",
      "\u001b[31m20210107\u001b[0m\n",
      "[15, '../../data_raw/mortality/cdc/2020W53 (20210102; updated 20210114) - Weekly_Counts_of_Deaths_by_State_and_Select_Causes__2019-2020.csv']\n",
      "\u001b[31m20210114\u001b[0m\n",
      "[16, '../../data_raw/mortality/cdc/2021W01 (20210109; updated 20210122) - Weekly_Counts_of_Deaths_by_State_and_Select_Causes__2019-2020.csv']\n",
      "\u001b[31m20210122\u001b[0m\n",
      "[17, '../../data_raw/mortality/cdc/2021W02 (20210116; updated 20210128) - Weekly_Counts_of_Deaths_by_State_and_Select_Causes__2019-2020.csv']\n",
      "\u001b[31m20210128\u001b[0m\n",
      "[18, '../../data_raw/mortality/cdc/2021W03 (20210123; updated 20210204) - Weekly_Counts_of_Deaths_by_State_and_Select_Causes__2019-2020.csv']\n",
      "\u001b[31m20210204\u001b[0m\n",
      "CPU times: user 462 ms, sys: 1.1 ms, total: 463 ms\n",
      "Wall time: 482 ms\n"
     ]
    },
    {
     "data": {
      "text/plain": [
       "array(['2020W34', '2020W35', '2020W40', '2020W41', '2020W42', '2020W43',\n",
       "       '2020W44', '2020W45', '2020W46', '2020W47', '2020W48', '2020W49',\n",
       "       '2020W50', '2020W51', '2020W52', '2020W53', '2020W53', '2020W53',\n",
       "       '2020W53'], dtype='<U32')"
      ]
     },
     "execution_count": 19,
     "metadata": {},
     "output_type": "execute_result"
    }
   ],
   "source": [
    "%%time\n",
    "cdcweeks = np.array([]);\n",
    "for idx in range(len(cdcfiles)):\n",
    "    print([idx, cdcfiles[idx]])\n",
    "    df = pd.read_csv(cdcfiles[idx]).rename(columns={'Jurisdiction of Occurrence':'jurisdiction', \n",
    "                                             'MMWR Year':'year', \n",
    "                                             'MMWR Week':'week',\n",
    "                                             'All Cause':'number_of_deaths'}).loc[lambda d: d.year==2020, ['jurisdiction','year','week','number_of_deaths']].reset_index(drop=True)\n",
    "    for x in ['year', 'week', 'number_of_deaths']:\n",
    "        # small technical issue with \",\" in numbers for deaths\n",
    "        if (type(df['number_of_deaths'][0])==str)&(x=='number_of_deaths'):\n",
    "            df[x] = df[x].str.replace(\",\",\"\")\n",
    "        df[x] = df[x].astype('float').astype(pd.Int64Dtype())\n",
    "    wk_ = df.loc[lambda d: d.year==max(d.year)].loc[lambda d: d.week==max(d.week)].week.values[0]\n",
    "    yr_ = df.loc[lambda d: d.year==max(d.year)].year.values[0]\n",
    "    CUTOFF_WEEK = '%dW%02d'%(yr_,wk_)\n",
    "    df['last_week'] = CUTOFF_WEEK\n",
    "    # reporting date\n",
    "    dt_last_ = (epiweeks.Week(yr_, wk_).enddate()).strftime(\"%Y%m%d\")\n",
    "    dt_ = pd.to_datetime(cdcfiles[idx].split('updated ')[-1].split(') ')[0], format=\"%Y%m%d\").strftime(\"%Y%m%d\") if ('updated' in cdcfiles[idx]) else (epiweeks.Week(yr_, wk_).enddate() + pd.DateOffset(days=11)).strftime(\"%Y%m%d\")\n",
    "    print(colored(dt_,'red'))\n",
    "    df.to_csv('../../data/mortality/%s (enddate %s; updated %s) - cdc.csv'%(CUTOFF_WEEK, dt_last_, dt_))\n",
    "    cdcweeks = np.r_[cdcweeks, [CUTOFF_WEEK]]\n",
    "cdcweeks"
   ]
  },
  {
   "cell_type": "markdown",
   "metadata": {},
   "source": [
    "# <font color=\"orange\">Parsing data from <i>covdata</i> package</font>"
   ]
  },
  {
   "cell_type": "code",
   "execution_count": 20,
   "metadata": {},
   "outputs": [
    {
     "data": {
      "text/plain": [
       "['../../data_raw/mortality/covdata/20200923 - nchs_wdc.rda',\n",
       " '../../data_raw/mortality/covdata/20200928 - nchs_wdc.rda',\n",
       " '../../data_raw/mortality/covdata/20201003 - nchs_wdc.rda',\n",
       " '../../data_raw/mortality/covdata/20201012 - nchs_wdc.rda',\n",
       " '../../data_raw/mortality/covdata/20201019 - nchs_wdc.rda',\n",
       " '../../data_raw/mortality/covdata/20201025 - nchs_wdc.rda']"
      ]
     },
     "execution_count": 20,
     "metadata": {},
     "output_type": "execute_result"
    }
   ],
   "source": [
    "covdatadir = \"../../data_raw/mortality/covdata\"\n",
    "covdatafiles = !ls {covdatadir}/*nchs_wdc.rda\n",
    "covdatafiles"
   ]
  },
  {
   "cell_type": "markdown",
   "metadata": {},
   "source": [
    "### <font color=\"brown\">Example with one particular file</font>"
   ]
  },
  {
   "cell_type": "code",
   "execution_count": 21,
   "metadata": {
    "scrolled": true
   },
   "outputs": [
    {
     "name": "stdout",
     "output_type": "stream",
     "text": [
      "[1] \"jurisdiction\"     \"year\"             \"week\"             \"week_ending_date\"\n",
      "[5] \"cause_detailed\"   \"n\"                \"cause\"           \n"
     ]
    }
   ],
   "source": [
    "%%R -i covdatafiles -o nchs_wdc\n",
    "library(dplyr)\n",
    "covdatafile = covdatafiles[[5]][1]\n",
    "\n",
    "load(covdatafile)\n",
    "print(nchs_wdc %>% names)"
   ]
  },
  {
   "cell_type": "code",
   "execution_count": 22,
   "metadata": {},
   "outputs": [
    {
     "data": {
      "text/plain": [
       "array(['All Cause', 'Alzheimer disease (G30)',\n",
       "       'Cerebrovascular diseases (I60-I69)',\n",
       "       'Chronic lower respiratory diseases (J40-J47)',\n",
       "       'Diabetes mellitus (E10-E14)',\n",
       "       'Diseases of heart (I00-I09,I11,I13,I20-I51)',\n",
       "       'Influenza and pneumonia (J10-J18)',\n",
       "       'Malignant neoplasms (C00-C97)', 'Natural Cause',\n",
       "       'Nephritis, nephrotic syndrome and nephrosis (N00-N07,N17-N19,N25-N27)',\n",
       "       'Other diseases of respiratory system (J00-J06,J30-J39,J67,J70-J98)',\n",
       "       'Septicemia (A40-A41)',\n",
       "       'Symptoms, signs and abnormal clinical and laboratory findings, not elsewhere classified (R00-R99)',\n",
       "       'COVID-19 (U071, Multiple Cause of Death)',\n",
       "       'COVID-19 (U071, Underlying Cause of Death)',\n",
       "       'Influenza and pneumonia (J09-J18)'], dtype=object)"
      ]
     },
     "execution_count": 22,
     "metadata": {},
     "output_type": "execute_result"
    }
   ],
   "source": [
    "nchs_wdc.cause_detailed.unique()"
   ]
  },
  {
   "cell_type": "code",
   "execution_count": 23,
   "metadata": {},
   "outputs": [
    {
     "data": {
      "text/html": [
       "<div>\n",
       "<style scoped>\n",
       "    .dataframe tbody tr th:only-of-type {\n",
       "        vertical-align: middle;\n",
       "    }\n",
       "\n",
       "    .dataframe tbody tr th {\n",
       "        vertical-align: top;\n",
       "    }\n",
       "\n",
       "    .dataframe thead th {\n",
       "        text-align: right;\n",
       "    }\n",
       "</style>\n",
       "<table border=\"1\" class=\"dataframe\">\n",
       "  <thead>\n",
       "    <tr style=\"text-align: right;\">\n",
       "      <th></th>\n",
       "      <th>jurisdiction</th>\n",
       "      <th>year</th>\n",
       "      <th>week</th>\n",
       "      <th>week_ending_date</th>\n",
       "      <th>cause_detailed</th>\n",
       "      <th>n</th>\n",
       "      <th>cause</th>\n",
       "    </tr>\n",
       "  </thead>\n",
       "  <tbody>\n",
       "    <tr>\n",
       "      <th>1</th>\n",
       "      <td>Alabama</td>\n",
       "      <td>2014.0</td>\n",
       "      <td>1.0</td>\n",
       "      <td>16074.0</td>\n",
       "      <td>All Cause</td>\n",
       "      <td>355.0</td>\n",
       "      <td>All Cause</td>\n",
       "    </tr>\n",
       "    <tr>\n",
       "      <th>2</th>\n",
       "      <td>Alabama</td>\n",
       "      <td>2014.0</td>\n",
       "      <td>1.0</td>\n",
       "      <td>16074.0</td>\n",
       "      <td>Alzheimer disease (G30)</td>\n",
       "      <td>10.0</td>\n",
       "      <td>Alzheimer's</td>\n",
       "    </tr>\n",
       "    <tr>\n",
       "      <th>3</th>\n",
       "      <td>Alabama</td>\n",
       "      <td>2014.0</td>\n",
       "      <td>1.0</td>\n",
       "      <td>16074.0</td>\n",
       "      <td>Cerebrovascular diseases (I60-I69)</td>\n",
       "      <td>18.0</td>\n",
       "      <td>Cerebrovascular Diseases</td>\n",
       "    </tr>\n",
       "    <tr>\n",
       "      <th>4</th>\n",
       "      <td>Alabama</td>\n",
       "      <td>2014.0</td>\n",
       "      <td>1.0</td>\n",
       "      <td>16074.0</td>\n",
       "      <td>Chronic lower respiratory diseases (J40-J47)</td>\n",
       "      <td>20.0</td>\n",
       "      <td>Chronic Lower Respiratory Diseases</td>\n",
       "    </tr>\n",
       "    <tr>\n",
       "      <th>5</th>\n",
       "      <td>Alabama</td>\n",
       "      <td>2014.0</td>\n",
       "      <td>1.0</td>\n",
       "      <td>16074.0</td>\n",
       "      <td>Diabetes mellitus (E10-E14)</td>\n",
       "      <td>NaN</td>\n",
       "      <td>Diabetes</td>\n",
       "    </tr>\n",
       "  </tbody>\n",
       "</table>\n",
       "</div>"
      ],
      "text/plain": [
       "  jurisdiction    year  week  week_ending_date  \\\n",
       "1      Alabama  2014.0   1.0           16074.0   \n",
       "2      Alabama  2014.0   1.0           16074.0   \n",
       "3      Alabama  2014.0   1.0           16074.0   \n",
       "4      Alabama  2014.0   1.0           16074.0   \n",
       "5      Alabama  2014.0   1.0           16074.0   \n",
       "\n",
       "                                 cause_detailed      n  \\\n",
       "1                                     All Cause  355.0   \n",
       "2                       Alzheimer disease (G30)   10.0   \n",
       "3            Cerebrovascular diseases (I60-I69)   18.0   \n",
       "4  Chronic lower respiratory diseases (J40-J47)   20.0   \n",
       "5                   Diabetes mellitus (E10-E14)    NaN   \n",
       "\n",
       "                                cause  \n",
       "1                           All Cause  \n",
       "2                         Alzheimer's  \n",
       "3            Cerebrovascular Diseases  \n",
       "4  Chronic Lower Respiratory Diseases  \n",
       "5                            Diabetes  "
      ]
     },
     "execution_count": 23,
     "metadata": {},
     "output_type": "execute_result"
    }
   ],
   "source": [
    "nchs_wdc[:5]"
   ]
  },
  {
   "cell_type": "markdown",
   "metadata": {},
   "source": [
    "### <font color=\"brown\">Processing all datafiles</font>"
   ]
  },
  {
   "cell_type": "code",
   "execution_count": 24,
   "metadata": {},
   "outputs": [
    {
     "name": "stdout",
     "output_type": "stream",
     "text": [
      "[0, '../../data_raw/mortality/covdata/20200923 - nchs_wdc.rda']\n"
     ]
    },
    {
     "name": "stderr",
     "output_type": "stream",
     "text": [
      "/home/aakhmetz/anaconda/lib/python3.8/site-packages/rpy2/robjects/vectors.py:969: UserWarning: R object inheriting from \"POSIXct\" but without attribute \"tzone\".\n",
      "  warnings.warn('R object inheriting from \"POSIXct\" but without '\n"
     ]
    },
    {
     "name": "stdout",
     "output_type": "stream",
     "text": [
      "Last week: 35\n",
      "\u001b[31m20200908\u001b[0m\n",
      "[1, '../../data_raw/mortality/covdata/20200928 - nchs_wdc.rda']\n"
     ]
    },
    {
     "name": "stderr",
     "output_type": "stream",
     "text": [
      "/home/aakhmetz/anaconda/lib/python3.8/site-packages/rpy2/robjects/vectors.py:969: UserWarning: R object inheriting from \"POSIXct\" but without attribute \"tzone\".\n",
      "  warnings.warn('R object inheriting from \"POSIXct\" but without '\n"
     ]
    },
    {
     "name": "stdout",
     "output_type": "stream",
     "text": [
      "Last week: 37\n",
      "\u001b[31m20200922\u001b[0m\n",
      "[2, '../../data_raw/mortality/covdata/20201003 - nchs_wdc.rda']\n"
     ]
    },
    {
     "name": "stderr",
     "output_type": "stream",
     "text": [
      "/home/aakhmetz/anaconda/lib/python3.8/site-packages/rpy2/robjects/vectors.py:969: UserWarning: R object inheriting from \"POSIXct\" but without attribute \"tzone\".\n",
      "  warnings.warn('R object inheriting from \"POSIXct\" but without '\n"
     ]
    },
    {
     "name": "stdout",
     "output_type": "stream",
     "text": [
      "Last week: 38\n",
      "\u001b[31m20200929\u001b[0m\n",
      "[3, '../../data_raw/mortality/covdata/20201012 - nchs_wdc.rda']\n"
     ]
    },
    {
     "name": "stderr",
     "output_type": "stream",
     "text": [
      "/home/aakhmetz/anaconda/lib/python3.8/site-packages/rpy2/robjects/vectors.py:969: UserWarning: R object inheriting from \"POSIXct\" but without attribute \"tzone\".\n",
      "  warnings.warn('R object inheriting from \"POSIXct\" but without '\n"
     ]
    },
    {
     "name": "stdout",
     "output_type": "stream",
     "text": [
      "Last week: 39\n",
      "\u001b[31m20201006\u001b[0m\n",
      "[4, '../../data_raw/mortality/covdata/20201019 - nchs_wdc.rda']\n"
     ]
    },
    {
     "name": "stderr",
     "output_type": "stream",
     "text": [
      "/home/aakhmetz/anaconda/lib/python3.8/site-packages/rpy2/robjects/vectors.py:969: UserWarning: R object inheriting from \"POSIXct\" but without attribute \"tzone\".\n",
      "  warnings.warn('R object inheriting from \"POSIXct\" but without '\n"
     ]
    },
    {
     "name": "stdout",
     "output_type": "stream",
     "text": [
      "Last week: 40\n",
      "\u001b[31m20201013\u001b[0m\n",
      "[5, '../../data_raw/mortality/covdata/20201025 - nchs_wdc.rda']\n"
     ]
    },
    {
     "name": "stderr",
     "output_type": "stream",
     "text": [
      "/home/aakhmetz/anaconda/lib/python3.8/site-packages/rpy2/robjects/vectors.py:969: UserWarning: R object inheriting from \"POSIXct\" but without attribute \"tzone\".\n",
      "  warnings.warn('R object inheriting from \"POSIXct\" but without '\n"
     ]
    },
    {
     "name": "stdout",
     "output_type": "stream",
     "text": [
      "Last week: 41\n",
      "\u001b[31m20201020\u001b[0m\n",
      "CPU times: user 59.7 s, sys: 434 ms, total: 1min\n",
      "Wall time: 59.8 s\n"
     ]
    }
   ],
   "source": [
    "%%time\n",
    "def getcovdata_df(idx):\n",
    "    %R -i covdatafiles -i idx -o nchs_wdc covdatafile = covdatafiles[[idx+1]][1]; load(covdatafile); nchs_wdc$week_ending_date = as.POSIXct(nchs_wdc$week_ending_date, format=\"%Y-%m-%d\") #\"%d/%m/%Y\" \n",
    "    nchs_wdc['week_ending_date'] = pd.to_datetime(nchs_wdc.week_ending_date).dt.date\n",
    "    if 'type' in nchs_wdc.columns:\n",
    "        nchs_wdc_ = nchs_wdc.loc[lambda d: (d.year==2020)&(d.type=='Unweighted'), \n",
    "            ['jurisdiction','cause_subgroup','number_of_deaths','year','week']]\n",
    "        # we calculate all-cause mortality\n",
    "        nchs_wdc_ = nchs_wdc_.groupby(['jurisdiction','year','week'])['number_of_deaths'].aggregate(sum).reset_index()\n",
    "#         nchs_wdc_ = nchs_wdc_.loc[lambda d: d.cause_detailed=='All Cause'].reset_index()\n",
    "    else:\n",
    "        nchs_wdc_ = nchs_wdc.loc[lambda d: (d.year==2020)&(d.cause=='All Cause'), \n",
    "            ['jurisdiction','n','year','week']].rename(columns={'n':'number_of_deaths'})\n",
    "    nchs_wdc_['last_week'] = nchs_wdc_.loc[lambda d: (d.year==max(d.year))&(d.week==max(d.week))].week.values[0]\n",
    "    for x in ['year', 'week', 'last_week', 'number_of_deaths']:\n",
    "        nchs_wdc_[x] = nchs_wdc_[x].astype(pd.Int64Dtype())\n",
    "    return nchs_wdc_\n",
    "\n",
    "for idx in range(len(covdatafiles)):\n",
    "    print([idx, covdatafiles[idx]])\n",
    "    df_covdata = getcovdata_df(idx)\n",
    "    CUTOFF_WEEK = df_covdata['last_week'].values[0]\n",
    "    print(\"Last week: \" + str(CUTOFF_WEEK))\n",
    "    dt_last_ = (epiweeks.Week(2020, CUTOFF_WEEK).enddate()).strftime(\"%Y%m%d\")\n",
    "    dt_ = (pd.to_datetime(epiweeks.Week(2020, CUTOFF_WEEK).enddate()) + pd.DateOffset(days=10)).strftime(\"%Y%m%d\")\n",
    "    print(colored(dt_, 'red'))\n",
    "    if (\"2020W%02d\"%CUTOFF_WEEK not in cdcweeks):\n",
    "        df_covdata.to_csv('../../data/mortality/2020W%d (enddate %s; updated %s) - covdata.csv'%(CUTOFF_WEEK, dt_last_, dt_), index=False)"
   ]
  },
  {
   "cell_type": "code",
   "execution_count": null,
   "metadata": {},
   "outputs": [],
   "source": []
  }
 ],
 "metadata": {
  "kernelspec": {
   "display_name": "Python 3",
   "language": "python",
   "name": "python3"
  },
  "language_info": {
   "codemirror_mode": {
    "name": "ipython",
    "version": 3
   },
   "file_extension": ".py",
   "mimetype": "text/x-python",
   "name": "python",
   "nbconvert_exporter": "python",
   "pygments_lexer": "ipython3",
   "version": "3.8.6"
  }
 },
 "nbformat": 4,
 "nbformat_minor": 4
}
